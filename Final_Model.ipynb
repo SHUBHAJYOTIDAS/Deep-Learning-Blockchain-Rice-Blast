{
 "cells": [
  {
   "cell_type": "code",
   "execution_count": null,
   "id": "e861bc60",
   "metadata": {},
   "outputs": [],
   "source": [
    "from tensorflow.keras.layers import Input, Lambda, Dense, Flatten, Add,Concatenate\n",
    "from tensorflow.keras.models import Model\n",
    "from tensorflow.keras.preprocessing import image\n",
    "from tensorflow.keras.preprocessing.image import ImageDataGenerator,load_img\n",
    "from tensorflow.keras.models import Sequential\n",
    "from tensorflow.keras.layers import  GlobalAveragePooling2D,Dropout,Conv2D,MaxPool2D,UpSampling2D,LeakyReLU,AveragePooling2D\n",
    "import numpy as np\n",
    "from glob import glob\n",
    "from tensorflow.keras.layers import BatchNormalization\n"
   ]
  },
  {
   "cell_type": "code",
   "execution_count": null,
   "id": "5bb809b1",
   "metadata": {},
   "outputs": [],
   "source": [
    "from google.colab import drive\n",
    "drive.mount('/content/drive')"
   ]
  },
  {
   "cell_type": "code",
   "execution_count": null,
   "id": "c884ae1a",
   "metadata": {},
   "outputs": [],
   "source": [
    "IMAGE_SIZE = [224, 224]\n",
    "\n",
    "train_path = '/content/drive/MyDrive/Dataset (1)/Train'\n",
    "valid_path = '/content/drive/MyDrive/Dataset (1)/Test'"
   ]
  },
  {
   "cell_type": "code",
   "execution_count": null,
   "id": "be4484ff",
   "metadata": {},
   "outputs": [],
   "source": [
    "TRAIN=[]\n",
    "LABEL=[]"
   ]
  },
  {
   "cell_type": "code",
   "execution_count": null,
   "id": "d8b55525",
   "metadata": {},
   "outputs": [],
   "source": [
    "import os\n",
    "from tqdm import tqdm\n",
    "import cv2"
   ]
  },
  {
   "cell_type": "code",
   "execution_count": null,
   "id": "4de77901",
   "metadata": {},
   "outputs": [],
   "source": [
    "dirs=os.listdir(train_path)"
   ]
  },
  {
   "cell_type": "code",
   "execution_count": null,
   "id": "23aa1b3e",
   "metadata": {},
   "outputs": [],
   "source": [
    "dirs"
   ]
  },
  {
   "cell_type": "code",
   "execution_count": null,
   "id": "530a87d8",
   "metadata": {},
   "outputs": [],
   "source": [
    "for file in tqdm(dirs):\n",
    "    p=train_path+\"/\"+file\n",
    "    for img in os.listdir(p):\n",
    "    # print(\"image:\",img)\n",
    "    # print(\"PATH:\",p+\"/\"+img)\n",
    "\n",
    "    i=cv2.imread(p+\"/\"+img)\n",
    "    # print(img)\n",
    "    # print(file)\n",
    "    if i!=[]:\n",
    "    # print(\"shape:\",i.shape)\n",
    "      i=cv2.resize(i,(224,224))\n",
    "        TRAIN.append(i)\n",
    "        LABEL.append(int(file))\n"
   ]
  },
  {
   "cell_type": "code",
   "execution_count": null,
   "id": "50b92b26",
   "metadata": {},
   "outputs": [],
   "source": [
    "dirs=os.listdir(valid_path)"
   ]
  },
  {
   "cell_type": "code",
   "execution_count": null,
   "id": "44b749a8",
   "metadata": {},
   "outputs": [],
   "source": [
    "dirs"
   ]
  },
  {
   "cell_type": "code",
   "execution_count": null,
   "id": "de12a9b7",
   "metadata": {},
   "outputs": [],
   "source": [
    "for file in tqdm(dirs):\n",
    "    p=valid_path+\"/\"+file\n",
    "    for img in os.listdir(p):\n",
    "        i=cv2.imread(p+\"/\"+img)\n",
    "        i=cv2.resize(i,(224,224))\n",
    "        TRAIN.append(i)\n",
    "        LABEL.append(int(file))"
   ]
  },
  {
   "cell_type": "code",
   "execution_count": null,
   "id": "a03cf806",
   "metadata": {},
   "outputs": [],
   "source": [
    "FINAL_LABEL=[]"
   ]
  },
  {
   "cell_type": "code",
   "execution_count": null,
   "id": "f3fa81e0",
   "metadata": {},
   "outputs": [],
   "source": [
    "for j in range(len(LABEL)):\n",
    "    if LABEL[j]==1:\n",
    "    FINAL_LABEL.append([1,0,0,0])\n",
    "    elif LABEL[j]==2:\n",
    "    FINAL_LABEL.append([0,1,0,0])\n",
    "    elif LABEL[j]==3:\n",
    "    FINAL_LABEL.append([0,0,1,0])\n",
    "    else:\n",
    "    FINAL_LABEL.append([0,0,0,1])"
   ]
  },
  {
   "cell_type": "code",
   "execution_count": null,
   "id": "adc722e6",
   "metadata": {},
   "outputs": [],
   "source": [
    "FINAL_LABEL=np.array(FINAL_LABEL)"
   ]
  },
  {
   "cell_type": "code",
   "execution_count": null,
   "id": "af3dff88",
   "metadata": {},
   "outputs": [],
   "source": [
    "from sklearn.model_selection import train_test_split\n",
    "X_train,X_test,Y_train,Y_test=train_test_split(TRAIN,FINAL_LABEL,test_size=0.2,random_state=42)"
   ]
  },
  {
   "cell_type": "code",
   "execution_count": null,
   "id": "a038d573",
   "metadata": {},
   "outputs": [],
   "source": [
    "from tensorflow.keras import regularizers\n",
    "input_shape = Input((224, 224, 3))\n",
    "conv1=Conv2D(32, kernel_size=(3, 3),activation='LeakyReLU',padding=\"same\",strides=(1,1))(input_shape)\n",
    "conv2=BatchNormalization()(conv1)\n",
    "\n",
    "conv3=Conv2D(64, kernel_size=(3, 3),\n",
    "                 activation='LeakyReLU',strides=(2,2))(conv2) ## 111x111\n",
    "conv4=BatchNormalization()(conv3)\n",
    "\n",
    "\n",
    "conv5=Conv2D(32, kernel_size=(1, 1),\n",
    "                 activation='LeakyReLU',strides=(1,1),padding=\"same\")(conv4)\n",
    "conv6=BatchNormalization()(conv5)\n",
    "conv7=Conv2D(64, kernel_size=(3, 3),\n",
    "                 activation='LeakyReLU',strides=(1,1),padding=\"same\")(conv6)\n",
    "conv8=BatchNormalization()(conv7)\n",
    "conv9=Add()([conv3,conv7])\n",
    "\n",
    "conv10=Conv2D(32, kernel_size=(1, 1),\n",
    "                 activation='LeakyReLU',strides=(1,1),padding=\"same\",kernel_regularizer=regularizers.l2(0.001))(conv9)\n",
    "conv11=BatchNormalization()(conv10)\n",
    "conv12=Conv2D(64, kernel_size=(3, 3),\n",
    "                 activation='LeakyReLU',strides=(1,1),padding=\"same\")(conv11)\n",
    "conv13=BatchNormalization()(conv12)\n",
    "conv14=Add()([conv9,conv12])\n",
    "\n",
    "\n",
    "conv15=Conv2D(128, kernel_size=(3, 3),\n",
    "                 activation='LeakyReLU',strides=(2,2),kernel_regularizer=regularizers.l2(0.001))(conv14)  ## 55x55\n",
    "conv16=BatchNormalization()(conv15)\n",
    "\n",
    "\n",
    "conv17=Conv2D(64, kernel_size=(1, 1),\n",
    "                 activation='LeakyReLU',strides=(1,1),padding=\"same\")(conv16)\n",
    "conv18=BatchNormalization()(conv17)\n",
    "conv19=Conv2D(128, kernel_size=(3, 3),\n",
    "                 activation='LeakyReLU',strides=(1,1),padding=\"same\")(conv18)\n",
    "conv20=BatchNormalization()(conv19)\n",
    "conv21=Add()([conv15,conv19])\n",
    "conv22=Conv2D(64, kernel_size=(1, 1),\n",
    "                 activation='LeakyReLU',strides=(1,1),padding=\"same\",kernel_regularizer=regularizers.l2(0.001))(conv21)\n",
    "conv23=BatchNormalization()(conv22)\n",
    "conv24=Conv2D(128, kernel_size=(3, 3),\n",
    "                 activation='LeakyReLU',strides=(1,1),padding=\"same\")(conv23)\n",
    "conv25=BatchNormalization()(conv24)\n",
    "conv26=Add()([conv21,conv24])\n",
    "conv27=Conv2D(64, kernel_size=(1, 1),\n",
    "                 activation='LeakyReLU',strides=(1,1),padding=\"same\",kernel_regularizer=regularizers.l2(0.001))(conv26)\n",
    "conv28=BatchNormalization()(conv27)\n",
    "conv29=Conv2D(128, kernel_size=(3, 3),\n",
    "                 activation='LeakyReLU',strides=(1,1),padding=\"same\")(conv28)\n",
    "conv30=BatchNormalization()(conv29)\n",
    "conv31=Add()([conv26,conv29])\n",
    "conv32=Conv2D(64, kernel_size=(1, 1),\n",
    "                 activation='LeakyReLU',strides=(1,1),padding=\"same\",kernel_regularizer=regularizers.l2(0.001))(conv31)\n",
    "conv33=BatchNormalization()(conv32)\n",
    "conv34=Conv2D(128, kernel_size=(3, 3),\n",
    "                 activation='LeakyReLU',strides=(1,1),padding=\"same\")(conv33)\n",
    "conv35=BatchNormalization()(conv34)\n",
    "conv36=Add()([conv31,conv34])\n",
    "\n",
    "\n",
    "\n",
    "conv37=Conv2D(256, kernel_size=(3, 3),\n",
    "                 activation='LeakyReLU',strides=(2,2),kernel_regularizer=regularizers.l2(0.001))(conv36) ## 27x27\n",
    "conv38=BatchNormalization()(conv37)\n",
    "\n",
    "conv39=Conv2D(128, kernel_size=(1, 1),\n",
    "                 activation='LeakyReLU',strides=(1,1),padding=\"same\")(conv38)\n",
    "conv40=BatchNormalization()(conv39)\n",
    "conv41=Conv2D(256, kernel_size=(3, 3),\n",
    "                 activation='LeakyReLU',strides=(1,1),padding=\"same\")(conv40)\n",
    "conv42=BatchNormalization()(conv41)\n",
    "conv43=Add()([conv37,conv41])\n",
    "conv44=Conv2D(128, kernel_size=(1, 1),\n",
    "                 activation='LeakyReLU',strides=(1,1),padding=\"same\",kernel_regularizer=regularizers.l2(0.001))(conv43)\n",
    "conv45=BatchNormalization()(conv44)\n",
    "conv46=Conv2D(256, kernel_size=(3, 3),\n",
    "                 activation='LeakyReLU',strides=(1,1),padding=\"same\")(conv45)\n",
    "conv47=BatchNormalization()(conv46)\n",
    "conv48=Add()([conv43,conv46])\n",
    "conv49=Conv2D(128, kernel_size=(1, 1),\n",
    "                 activation='LeakyReLU',strides=(1,1),padding=\"same\",kernel_regularizer=regularizers.l2(0.001))(conv48)\n",
    "conv50=BatchNormalization()(conv49)\n",
    "conv51=Conv2D(256, kernel_size=(3, 3),\n",
    "                 activation='LeakyReLU',strides=(1,1),padding=\"same\")(conv50)\n",
    "conv52=BatchNormalization()(conv51)\n",
    "conv53=Add()([conv48,conv51])\n",
    "conv54=Conv2D(128, kernel_size=(1, 1),\n",
    "                 activation='LeakyReLU',strides=(1,1),padding=\"same\",kernel_regularizer=regularizers.l2(0.001))(conv53)\n",
    "conv55=BatchNormalization()(conv54)\n",
    "conv56=Conv2D(256, kernel_size=(3, 3),\n",
    "                 activation='LeakyReLU',strides=(1,1),padding=\"same\")(conv55)\n",
    "conv57=BatchNormalization()(conv56)\n",
    "conv58=Add()([conv53,conv56])\n",
    "conv59=Conv2D(128, kernel_size=(1, 1),\n",
    "                 activation='LeakyReLU',strides=(1,1),padding=\"same\",kernel_regularizer=regularizers.l2(0.001))(conv58)\n",
    "conv60=BatchNormalization()(conv59)\n",
    "conv61=Conv2D(256, kernel_size=(3, 3),\n",
    "                 activation='LeakyReLU',strides=(1,1),padding=\"same\")(conv60)\n",
    "conv62=BatchNormalization()(conv61)\n",
    "conv63=Add()([conv58,conv61])\n",
    "conv64=Conv2D(128, kernel_size=(1, 1),\n",
    "                 activation='LeakyReLU',strides=(1,1),padding=\"same\",kernel_regularizer=regularizers.l2(0.001))(conv63)\n",
    "conv65=BatchNormalization()(conv64)\n",
    "conv66=Conv2D(256, kernel_size=(3, 3),\n",
    "                 activation='LeakyReLU',strides=(1,1),padding=\"same\")(conv65)\n",
    "conv67=BatchNormalization()(conv66)\n",
    "conv68=Add()([conv63,conv66])\n",
    "\n",
    "\n",
    "conv69=Conv2D(512, kernel_size=(3, 3),\n",
    "                 activation='LeakyReLU',strides=(2,2),kernel_regularizer=regularizers.l2(0.001))(conv68)   #13x13\n",
    "conv70=BatchNormalization()(conv69)\n",
    "\n",
    "\n",
    "conv71=Conv2D(256, kernel_size=(1, 1),\n",
    "                 activation='LeakyReLU',strides=(1,1),padding=\"same\")(conv70)\n",
    "conv72=BatchNormalization()(conv71)\n",
    "conv73=Conv2D(512, kernel_size=(3, 3),\n",
    "                 activation='LeakyReLU',strides=(1,1),padding=\"same\")(conv72)\n",
    "conv74=BatchNormalization()(conv73)\n",
    "conv75=Add()([conv69,conv73])\n",
    "conv76=Conv2D(256, kernel_size=(1, 1),\n",
    "                 activation='LeakyReLU',strides=(1,1),padding=\"same\",kernel_regularizer=regularizers.l2(0.001))(conv75)\n",
    "conv77=BatchNormalization()(conv76)\n",
    "conv78=Conv2D(512, kernel_size=(3, 3),\n",
    "                 activation='LeakyReLU',strides=(1,1),padding=\"same\")(conv77)\n",
    "conv79=BatchNormalization()(conv78)\n",
    "conv80=Add()([conv75,conv78])\n",
    "conv81=Conv2D(256, kernel_size=(1, 1),\n",
    "                 activation='LeakyReLU',strides=(1,1),padding=\"same\",kernel_regularizer=regularizers.l2(0.001))(conv80)\n",
    "conv82=BatchNormalization()(conv81)\n",
    "conv83=Conv2D(512, kernel_size=(3, 3),\n",
    "                 activation='LeakyReLU',strides=(1,1),padding=\"same\")(conv82)\n",
    "conv84=BatchNormalization()(conv83)\n",
    "conv85=Add()([conv80,conv83])\n",
    "conv86=Conv2D(256, kernel_size=(1, 1),\n",
    "                 activation='LeakyReLU',strides=(1,1),padding=\"same\",kernel_regularizer=regularizers.l2(0.001))(conv85)\n",
    "conv87=BatchNormalization()(conv86)\n",
    "conv88=Conv2D(512, kernel_size=(3, 3),\n",
    "                 activation='LeakyReLU',strides=(1,1),padding=\"same\")(conv87)\n",
    "conv89=BatchNormalization()(conv88)\n",
    "conv90=Add()([conv85,conv88])\n",
    "\n",
    "\n",
    "conv91=Conv2D(1024, kernel_size=(3, 3),\n",
    "                 activation='LeakyReLU',strides=(2,2),kernel_regularizer=regularizers.l2(0.001))(conv90) ## 6x6\n",
    "\n",
    "conv92=Conv2D(512, kernel_size=(1, 1),\n",
    "                 activation='LeakyReLU',strides=(1,1),padding=\"same\")(conv91)\n",
    "conv93=Conv2D(1024, kernel_size=(3, 3),\n",
    "                 activation='LeakyReLU',strides=(1,1),padding=\"same\")(conv92)\n",
    "conv94=Add()([conv93,conv91])\n",
    "conv95=Conv2D(512, kernel_size=(1, 1),\n",
    "                 activation='LeakyReLU',strides=(1,1),padding=\"same\",kernel_regularizer=regularizers.l2(0.001))(conv94)\n",
    "conv96=Conv2D(1024, kernel_size=(3, 3),\n",
    "                 activation='LeakyReLU',strides=(1,1),padding=\"same\")(conv95)\n",
    "conv97=Add()([conv96,conv94])\n",
    "\n",
    "conv98=Conv2D(512, kernel_size=(1, 1),\n",
    "                 activation='LeakyReLU',strides=(1,1),padding=\"same\",kernel_regularizer=regularizers.l2(0.001))(conv97)\n",
    "conv99=Conv2D(1024, kernel_size=(3, 3),\n",
    "                 activation='LeakyReLU',strides=(1,1),padding=\"same\")(conv98)\n",
    "conv100=Add()([conv99,conv97])\n",
    "\n",
    "conv101=Flatten()(conv100)\n",
    "conv102=Dense(1024, activation='LeakyReLU',kernel_regularizer=regularizers.l2(0.001))(conv101)\n",
    "conv103=Dense(512, activation='LeakyReLU')(conv102)\n",
    "conv104=Dense(256, activation='LeakyReLU')(conv103)\n",
    "conv105=Dense(128, activation='LeakyReLU')(conv104)\n",
    "conv106=Dense(64, activation='LeakyReLU')(conv105)\n",
    "conv107=Dense(32, activation='LeakyReLU')(conv106)\n",
    "output=Dense(4, activation='softmax')(conv107)\n",
    "\n",
    "\n",
    "\n",
    "model=Model(inputs=input_shape,outputs=output)"
   ]
  },
  {
   "cell_type": "code",
   "execution_count": null,
   "id": "f8e66d63",
   "metadata": {},
   "outputs": [],
   "source": [
    "# tell the model what cost and optimization method to use\n",
    "model.compile(\n",
    "  loss='categorical_crossentropy',\n",
    "  optimizer='Adam',\n",
    "  metrics=['accuracy']\n",
    ")"
   ]
  },
  {
   "cell_type": "code",
   "execution_count": null,
   "id": "1df2890f",
   "metadata": {},
   "outputs": [],
   "source": [
    "model.summary()"
   ]
  },
  {
   "cell_type": "code",
   "execution_count": null,
   "id": "b7f5f0cb",
   "metadata": {},
   "outputs": [],
   "source": [
    "r = model.fit(\n",
    "  X_train,Y_train,\n",
    "  validation_data=(X_test,Y_test),\n",
    "  epochs=100,batch_size=64,\n",
    "  callbacks=[mc])"
   ]
  },
  {
   "cell_type": "code",
   "execution_count": null,
   "id": "8d5eb221",
   "metadata": {},
   "outputs": [],
   "source": [
    "import matplotlib.pyplot as plt\n",
    "# plot the loss\n",
    "plt.plot(r.history['loss'], label='Train loss')\n",
    "plt.plot(r.history['val_loss'], label='Val loss')\n",
    "plt.title('Model Loss')\n",
    "plt.legend()\n",
    "plt.show()\n",
    "\n",
    "# plot the accuracy\n",
    "plt.plot(r.history['accuracy'], label='Train acc')\n",
    "plt.plot(r.history['val_accuracy'], label='Val acc')\n",
    "plt.title('Model Accuracy')\n",
    "plt.legend()\n",
    "plt.show()"
   ]
  }
 ],
 "metadata": {
  "kernelspec": {
   "display_name": "Python 3 (ipykernel)",
   "language": "python",
   "name": "python3"
  },
  "language_info": {
   "codemirror_mode": {
    "name": "ipython",
    "version": 3
   },
   "file_extension": ".py",
   "mimetype": "text/x-python",
   "name": "python",
   "nbconvert_exporter": "python",
   "pygments_lexer": "ipython3",
   "version": "3.10.4"
  }
 },
 "nbformat": 4,
 "nbformat_minor": 5
}
