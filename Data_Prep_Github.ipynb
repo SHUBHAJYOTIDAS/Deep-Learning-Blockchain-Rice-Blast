{
 "cells": [
  {
   "cell_type": "code",
   "execution_count": null,
   "id": "4cd5ec71",
   "metadata": {},
   "outputs": [],
   "source": [
    "import numpy as np\n",
    "import cv2\n",
    "import pandas as pd\n",
    "import os\n",
    "from tqdm import tqdm\n",
    "from sklearn.model_selection import train_test_split\n",
    "import tensorflow as tf\n",
    "from tensorflow.keras.layers import Input, Lambda, Dense, Flatten, Add,Concatenate,concatenate \n",
    "from tensorflow.keras.models import Model\n",
    "from tensorflow.keras.preprocessing import image\n",
    "from tensorflow.keras.preprocessing.image import ImageDataGenerator,load_img\n",
    "from tensorflow.keras.models import Sequential\n",
    "from tensorflow.keras.layers import  GlobalAveragePooling2D,Dropout,Conv2D,MaxPool2D,UpSampling2D,LeakyReLU,AveragePooling2D\n",
    "from tensorflow.keras.layers import BatchNormalization\n",
    "import keras.backend as K\n",
    "from keras.layers import Layer\n"
   ]
  },
  {
   "cell_type": "code",
   "execution_count": null,
   "id": "5b991983",
   "metadata": {},
   "outputs": [],
   "source": [
    "path=\"C:\\\\Users\\\\Admin\\\\Desktop\\\\Dataset\""
   ]
  },
  {
   "cell_type": "code",
   "execution_count": null,
   "id": "de0612c0",
   "metadata": {},
   "outputs": [],
   "source": [
    "dirs=os.listdir(path)"
   ]
  },
  {
   "cell_type": "code",
   "execution_count": null,
   "id": "2333bb2a",
   "metadata": {},
   "outputs": [],
   "source": [
    "dirs"
   ]
  },
  {
   "cell_type": "code",
   "execution_count": null,
   "id": "46fadd32",
   "metadata": {},
   "outputs": [],
   "source": [
    "Train=[]\n",
    "Label=[]"
   ]
  },
  {
   "cell_type": "code",
   "execution_count": null,
   "id": "64b49b11",
   "metadata": {},
   "outputs": [],
   "source": [
    "for i in tqdm(range(len(dirs))):\n",
    "    p=path+\"\\\\\"+dirs[i]\n",
    "    d=os.listdir(p)\n",
    "    for j in tqdm(range(len(d))):\n",
    "        p2=p+\"\\\\\"+d[j]\n",
    "        lab=d[j]\n",
    "        d2=os.listdir(p2)\n",
    "        for im in range(len(d2)):\n",
    "            p3=p2+\"\\\\\"+d2[i]\n",
    "            image=cv2.imread(p3)\n",
    "            image=cv2.resize(image, (224,224))\n",
    "            Train.append(image)\n",
    "            Label.append(lab)"
   ]
  },
  {
   "cell_type": "code",
   "execution_count": null,
   "id": "d2a0e9ca",
   "metadata": {},
   "outputs": [],
   "source": [
    "np.save(\"C:\\\\Users\\\\Admin\\\\Desktop\\\\Next_1\\\\DATA\\\\data.npy\",Train)"
   ]
  },
  {
   "cell_type": "code",
   "execution_count": null,
   "id": "3c53da10",
   "metadata": {},
   "outputs": [],
   "source": [
    "np.save(\"C:\\\\Users\\\\Admin\\\\Desktop\\\\Next_1\\\\DATA\\\\label.npy\",Label)"
   ]
  },
  {
   "cell_type": "code",
   "execution_count": null,
   "id": "c55e57f5",
   "metadata": {},
   "outputs": [],
   "source": [
    "X_train,X_test,Y_train,Y_test=train_test_split(Train,Label,test_size=0.1,random_state=42)"
   ]
  },
  {
   "cell_type": "code",
   "execution_count": null,
   "id": "0c924db6",
   "metadata": {},
   "outputs": [],
   "source": [
    "np.save(\"C:\\\\Users\\\\Admin\\\\Desktop\\\\Next_1\\\\DATA\\\\X_train.npy\",X_train)"
   ]
  },
  {
   "cell_type": "code",
   "execution_count": null,
   "id": "958bc4f6",
   "metadata": {},
   "outputs": [],
   "source": [
    "np.save(\"C:\\\\Users\\\\Admin\\\\Desktop\\\\Next_1\\\\DATA\\\\X_test.npy\",X_test)"
   ]
  },
  {
   "cell_type": "code",
   "execution_count": null,
   "id": "2ab7b1f0",
   "metadata": {},
   "outputs": [],
   "source": [
    "np.save(\"C:\\\\Users\\\\Admin\\\\Desktop\\\\Next_1\\\\DATA\\\\Y_train.npy\",Y_train)"
   ]
  },
  {
   "cell_type": "code",
   "execution_count": null,
   "id": "f19fbb87",
   "metadata": {},
   "outputs": [],
   "source": [
    "np.save(\"C:\\\\Users\\\\Admin\\\\Desktop\\\\Next_1\\\\DATA\\\\Y_test.npy\",Y_test)"
   ]
  },
  {
   "cell_type": "code",
   "execution_count": null,
   "id": "6d28dd92",
   "metadata": {},
   "outputs": [],
   "source": [
    "R=[]\n",
    "G=[]\n",
    "B=[]\n",
    "for i in tqdm(range(len(X_train))):\n",
    "    data=X_train[i]\n",
    "    b =data[:,:,0]\n",
    "    g= data[:,:,1]\n",
    "    r= data[:,:,2]\n",
    "    \n",
    "    R.append(r)\n",
    "    G.append(g)\n",
    "    B.append(b)\n",
    " \n",
    "               "
   ]
  },
  {
   "cell_type": "code",
   "execution_count": null,
   "id": "0e2bd834",
   "metadata": {},
   "outputs": [],
   "source": [
    "np.save(\"C:\\\\Users\\\\Admin\\\\Desktop\\\\Next_1\\\\DATA\\\\R_train.npy\",R)"
   ]
  },
  {
   "cell_type": "code",
   "execution_count": null,
   "id": "5df16af8",
   "metadata": {},
   "outputs": [],
   "source": [
    "np.save(\"C:\\\\Users\\\\Admin\\\\Desktop\\\\Next_1\\\\DATA\\\\G_train.npy\",G)"
   ]
  },
  {
   "cell_type": "code",
   "execution_count": null,
   "id": "b2b59aa2",
   "metadata": {},
   "outputs": [],
   "source": [
    "np.save(\"C:\\\\Users\\\\Admin\\\\Desktop\\\\Next_1\\\\DATA\\\\B_train.npy\",B)"
   ]
  },
  {
   "cell_type": "code",
   "execution_count": null,
   "id": "d216009f",
   "metadata": {},
   "outputs": [],
   "source": [
    "R=[]\n",
    "G=[]\n",
    "B=[]\n",
    "for i in tqdm(range(len(X_test))):\n",
    "    data=X_test[i]\n",
    "    b =data[:,:,0]\n",
    "    g= data[:,:,1]\n",
    "    r= data[:,:,2]\n",
    "    \n",
    "    R.append(r)\n",
    "    G.append(g)\n",
    "    B.append(b)\n",
    " "
   ]
  },
  {
   "cell_type": "code",
   "execution_count": null,
   "id": "d01bb5bc",
   "metadata": {},
   "outputs": [],
   "source": [
    "np.save(\"C:\\\\Users\\\\Admin\\\\Desktop\\\\Next_1\\\\DATA\\\\R_test.npy\",R)\n",
    "np.save(\"C:\\\\Users\\\\Admin\\\\Desktop\\\\Next_1\\\\DATA\\\\G_test.npy\",G)\n",
    "np.save(\"C:\\\\Users\\\\Admin\\\\Desktop\\\\Next_1\\\\DATA\\\\B_test.npy\",B)"
   ]
  },
  {
   "cell_type": "code",
   "execution_count": null,
   "id": "ad2f26e1",
   "metadata": {},
   "outputs": [],
   "source": []
  }
 ],
 "metadata": {
  "kernelspec": {
   "display_name": "Python 3 (ipykernel)",
   "language": "python",
   "name": "python3"
  },
  "language_info": {
   "codemirror_mode": {
    "name": "ipython",
    "version": 3
   },
   "file_extension": ".py",
   "mimetype": "text/x-python",
   "name": "python",
   "nbconvert_exporter": "python",
   "pygments_lexer": "ipython3",
   "version": "3.10.4"
  }
 },
 "nbformat": 4,
 "nbformat_minor": 5
}
