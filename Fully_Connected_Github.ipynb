{
 "cells": [
  {
   "cell_type": "code",
   "execution_count": null,
   "id": "60480ca0",
   "metadata": {},
   "outputs": [],
   "source": [
    "import numpy as np\n",
    "import pandas as pd\n",
    "from tqdm import tqdm\n"
   ]
  },
  {
   "cell_type": "code",
   "execution_count": null,
   "id": "4758e4d2",
   "metadata": {},
   "outputs": [],
   "source": [
    "R_train= np.load(\"C:\\\\Users\\\\Admin\\\\Desktop\\\\Next_1\\\\DATA\\\\R_features_train_CNN_attention.npy\")\n",
    "R_test= np.load(\"C:\\\\Users\\\\Admin\\\\Desktop\\\\Next_1\\\\DATA\\\\R_features_test_CNN_attention.npy\")"
   ]
  },
  {
   "cell_type": "code",
   "execution_count": null,
   "id": "446bce50",
   "metadata": {},
   "outputs": [],
   "source": [
    "G_train= np.load(\"C:\\\\Users\\\\Admin\\\\Desktop\\\\Next_1\\\\DATA\\\\G_features_train_CNN_attention.npy\")\n",
    "G_test= np.load(\"C:\\\\Users\\\\Admin\\\\Desktop\\\\Next_1\\\\DATA\\\\G_features_test_CNN_attention.npy\")"
   ]
  },
  {
   "cell_type": "code",
   "execution_count": null,
   "id": "892b7d99",
   "metadata": {},
   "outputs": [],
   "source": [
    "B_train= np.load(\"C:\\\\Users\\\\Admin\\\\Desktop\\\\Next_1\\\\DATA\\\\B_features_train_CNN_attention.npy\")\n",
    "B_test= np.load(\"C:\\\\Users\\\\Admin\\\\Desktop\\\\Next_1\\\\DATA\\\\B_features_test_CNN_attention.npy\")"
   ]
  },
  {
   "cell_type": "code",
   "execution_count": null,
   "id": "72829f44",
   "metadata": {},
   "outputs": [],
   "source": [
    "transformer_features_train = np.load(\"C:\\\\Users\\\\Admin\\\\Desktop\\\\Next_1\\\\DATA\\\\features_train_transformer.npy\")\n",
    "transformer_features_test = np.load(\"C:\\\\Users\\\\Admin\\\\Desktop\\\\Next_1\\\\DATA\\\\features_test_transformer.npy\")"
   ]
  },
  {
   "cell_type": "code",
   "execution_count": null,
   "id": "f0f9e976",
   "metadata": {},
   "outputs": [],
   "source": [
    "train=np.array(transformer_features_train)"
   ]
  },
  {
   "cell_type": "code",
   "execution_count": null,
   "id": "16675a5b",
   "metadata": {},
   "outputs": [],
   "source": [
    "Transformer_train= []\n",
    "for i in tqdm(range(len(train))):\n",
    "    a=train[i]\n",
    "    x = a[:, 0, :]\n",
    "    Transformer_train.append(x)"
   ]
  },
  {
   "cell_type": "code",
   "execution_count": null,
   "id": "74fa335d",
   "metadata": {},
   "outputs": [],
   "source": [
    "test=np.array(transformer_features_test)"
   ]
  },
  {
   "cell_type": "code",
   "execution_count": null,
   "id": "89f2d16a",
   "metadata": {},
   "outputs": [],
   "source": [
    "Transformer_test= []\n",
    "for i in tqdm(range(len(test))):\n",
    "    a=test[i]\n",
    "    x = a[:, 0, :]\n",
    "    Transformer_test.append(x)"
   ]
  },
  {
   "cell_type": "code",
   "execution_count": null,
   "id": "6f044111",
   "metadata": {},
   "outputs": [],
   "source": [
    "Train_tran = np.array(Transformer_train)\n",
    "Test_tran = np.array(Transformer_test)"
   ]
  },
  {
   "cell_type": "code",
   "execution_count": null,
   "id": "a51d5cb1",
   "metadata": {},
   "outputs": [],
   "source": [
    "X_test_main=[]\n",
    "for j in range(len(Test_tran)):\n",
    "    a=Test_tran[j]\n",
    "for i in range(len(R_test)):\n",
    "    b=R_test[i]\n",
    "for k in range(len(B_test)):\n",
    "    c=B_test[k]\n",
    "for l in range(len(G_test)):\n",
    "    d=G_test[l]\n",
    "    x=np.concatenate((a,b,c,d), axis=None)\n",
    "    X_test_main.append(x)"
   ]
  },
  {
   "cell_type": "code",
   "execution_count": null,
   "id": "7a434ffc",
   "metadata": {},
   "outputs": [],
   "source": [
    "X_train_main=[]\n",
    "for j in range(len(Train_tran)):\n",
    "    a=Train_tran[j]\n",
    "for i in range(len(R_train)):\n",
    "    b=R_train[i]\n",
    "for k in range(len(B_train)):\n",
    "    c=B_train[k]\n",
    "for l in range(len(G_train)):\n",
    "    d=G_train[l]\n",
    "    x=np.concatenate((a,b,c,d), axis=None)\n",
    "    X_train_main.append(x)"
   ]
  },
  {
   "cell_type": "code",
   "execution_count": null,
   "id": "b4c66df8",
   "metadata": {},
   "outputs": [],
   "source": [
    "Y_train= np.load(\"C:\\\\Users\\\\Admin\\\\Desktop\\\\Next_1\\\\DATA\\\\Y_train.npy\")\n",
    "Y_test= np.load(\"C:\\\\Users\\\\Admin\\\\Desktop\\\\Next_1\\\\DATA\\\\Y_test.npy\")\n"
   ]
  },
  {
   "cell_type": "code",
   "execution_count": null,
   "id": "bf76ec43",
   "metadata": {},
   "outputs": [],
   "source": [
    "np.save(\"C:\\\\Users\\\\Admin\\\\Desktop\\\\Next_1\\\\DATA\\\\Train_main.npy\",X_train_main)"
   ]
  },
  {
   "cell_type": "code",
   "execution_count": null,
   "id": "c3d657b2",
   "metadata": {},
   "outputs": [],
   "source": [
    "np.save(\"C:\\\\Users\\\\Admin\\\\Desktop\\\\Next_1\\\\DATA\\\\Test_main.npy\",X_test_main)"
   ]
  },
  {
   "cell_type": "code",
   "execution_count": null,
   "id": "83addc41",
   "metadata": {},
   "outputs": [],
   "source": [
    "Y=[]\n",
    "for i in range(len(Y_train)):\n",
    "    Y.append(int(Y_train[i]))\n"
   ]
  },
  {
   "cell_type": "code",
   "execution_count": null,
   "id": "7e312584",
   "metadata": {},
   "outputs": [],
   "source": [
    "Y1=[]\n",
    "for i in range(len(Y_test)):\n",
    "    Y1.append(int(Y_test[i]))\n"
   ]
  },
  {
   "cell_type": "code",
   "execution_count": null,
   "id": "57981f7d",
   "metadata": {},
   "outputs": [],
   "source": [
    "FINAL_LABEL=[]\n",
    "for j in range(len(Y)):\n",
    "    if Y[j]==1:\n",
    "        FINAL_LABEL.append([1,0,0,0])\n",
    "    elif Y[j]==2:\n",
    "        FINAL_LABEL.append([0,1,0,0])\n",
    "    elif Y[j]==3:\n",
    "        FINAL_LABEL.append([0,0,1,0])\n",
    "    else:\n",
    "        FINAL_LABEL.append([0,0,0,1])"
   ]
  },
  {
   "cell_type": "code",
   "execution_count": null,
   "id": "f968b82a",
   "metadata": {},
   "outputs": [],
   "source": [
    "FINAL_LABEL_test=[]\n",
    "for j in range(len(Y1)):\n",
    "    if Y1[j]==1:\n",
    "        FINAL_LABEL_test.append([1,0,0,0])\n",
    "    elif Y1[j]==2:\n",
    "        FINAL_LABEL_test.append([0,1,0,0])\n",
    "    elif Y1[j]==3:\n",
    "        FINAL_LABEL_test.append([0,0,1,0])\n",
    "    else:\n",
    "        FINAL_LABEL_test.append([0,0,0,1])"
   ]
  },
  {
   "cell_type": "code",
   "execution_count": null,
   "id": "5a82edc6",
   "metadata": {},
   "outputs": [],
   "source": [
    "x1=np.array(X_train_main)\n",
    "x2=np.array(X_test_main)\n",
    "y1=np.array(FINAL_LABEL)\n",
    "y2=np.array(FINAL_LABEL_test)"
   ]
  },
  {
   "cell_type": "code",
   "execution_count": null,
   "id": "e186350d",
   "metadata": {},
   "outputs": [],
   "source": [
    "a=np.concatenate((x1,x2))\n",
    "b=np.concatenate((y1,y2))"
   ]
  },
  {
   "cell_type": "code",
   "execution_count": null,
   "id": "5ef34068",
   "metadata": {},
   "outputs": [],
   "source": [
    "from sklearn.model_selection import train_test_split\n",
    "\n",
    "train_load,test_load,Y_train,Y_test=train_test_split(a,b,test_size=0.40,random_state=42)"
   ]
  },
  {
   "cell_type": "code",
   "execution_count": null,
   "id": "aef0706e",
   "metadata": {},
   "outputs": [],
   "source": [
    "from tensorflow.keras.models import Sequential\n",
    "from tensorflow.keras.layers import Dense, Dropout, LeakyReLU\n",
    "from tensorflow.keras.callbacks import ModelCheckpoint, CSVLogger, ReduceLROnPlateau, EarlyStopping\n",
    "from tensorflow.keras.layers import BatchNormalization\n",
    "from tensorflow.keras import regularizers\n",
    "\n",
    "model = Sequential()\n",
    "model.add(Dense(200, input_dim=576, activation='LeakyReLU',kernel_regularizer=regularizers.l2(0.001)))\n",
    "\n",
    "model.add(Dropout(0.5))\n",
    "\n",
    "model.add(Dense(250, activation='LeakyReLU',kernel_regularizer=regularizers.l2(0.001)))\n",
    "\n",
    "model.add(BatchNormalization())\n",
    "\n",
    "model.add(Dense(200, activation='LeakyReLU',kernel_regularizer=regularizers.l2(0.001)))\n",
    "model.add(BatchNormalization())\n",
    "\n",
    "model.add(Dense(100, activation='relu'))\n",
    "\n",
    "model.add(Dense(4, activation='softmax'))\n",
    "\n",
    "model.compile(loss='categorical_crossentropy',optimizer='adam',metrics=['accuracy'])\n",
    "model.summary()"
   ]
  },
  {
   "cell_type": "code",
   "execution_count": null,
   "id": "cea2ef89",
   "metadata": {},
   "outputs": [],
   "source": [
    "callbacks=[CSVLogger(\"FC_model_details.csv\")]"
   ]
  },
  {
   "cell_type": "code",
   "execution_count": null,
   "id": "7a7544f0",
   "metadata": {},
   "outputs": [],
   "source": [
    "r = model.fit(\n",
    "  train_load,Y_train,\n",
    "  validation_data=(test_load,Y_test),\n",
    "  epochs=100,batch_size=64,\n",
    " callbacks=[callbacks])"
   ]
  },
  {
   "cell_type": "code",
   "execution_count": null,
   "id": "d4cd422f",
   "metadata": {},
   "outputs": [],
   "source": [
    "import matplotlib.pyplot as plt\n",
    "# plot the loss\n",
    "plt.plot(r.history['loss'], label='Train loss')\n",
    "plt.plot(r.history['val_loss'], label='Val loss')\n",
    "plt.title('Model Loss')\n",
    "plt.legend()\n",
    "plt.show()\n",
    "\n",
    "# plot the accuracy\n",
    "plt.plot(r.history['accuracy'], label='Train acc')\n",
    "plt.plot(r.history['val_accuracy'], label='Val acc')\n",
    "plt.title('Model Accuracy')\n",
    "plt.legend()\n",
    "plt.show()"
   ]
  },
  {
   "cell_type": "code",
   "execution_count": null,
   "id": "1c8fc00e",
   "metadata": {},
   "outputs": [],
   "source": []
  },
  {
   "cell_type": "code",
   "execution_count": null,
   "id": "1511c60b",
   "metadata": {},
   "outputs": [],
   "source": []
  },
  {
   "cell_type": "code",
   "execution_count": null,
   "id": "7eef49ef",
   "metadata": {},
   "outputs": [],
   "source": []
  },
  {
   "cell_type": "code",
   "execution_count": null,
   "id": "6fd3f1d5",
   "metadata": {},
   "outputs": [],
   "source": []
  }
 ],
 "metadata": {
  "kernelspec": {
   "display_name": "Python 3 (ipykernel)",
   "language": "python",
   "name": "python3"
  },
  "language_info": {
   "codemirror_mode": {
    "name": "ipython",
    "version": 3
   },
   "file_extension": ".py",
   "mimetype": "text/x-python",
   "name": "python",
   "nbconvert_exporter": "python",
   "pygments_lexer": "ipython3",
   "version": "3.10.4"
  }
 },
 "nbformat": 4,
 "nbformat_minor": 5
}
